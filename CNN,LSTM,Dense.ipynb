{
  "nbformat": 4,
  "nbformat_minor": 0,
  "metadata": {
    "colab": {
      "provenance": [],
      "machine_shape": "hm",
      "gpuClass": "premium",
      "include_colab_link": true
    },
    "kernelspec": {
      "name": "python3",
      "display_name": "Python 3"
    },
    "language_info": {
      "name": "python"
    },
    "accelerator": "GPU",
    "gpuClass": "premium"
  },
  "cells": [
    {
      "cell_type": "markdown",
      "metadata": {
        "id": "view-in-github",
        "colab_type": "text"
      },
      "source": [
        "<a href=\"https://colab.research.google.com/github/SahilAliAkbar/Bharat_Intern_ML/blob/main/CNN%2CLSTM%2CDense.ipynb\" target=\"_parent\"><img src=\"https://colab.research.google.com/assets/colab-badge.svg\" alt=\"Open In Colab\"/></a>"
      ]
    },
    {
      "cell_type": "code",
      "execution_count": 1,
      "metadata": {
        "id": "aw3Cc5vkO8tk"
      },
      "outputs": [],
      "source": [
        "import pandas as pd\n",
        "import numpy as np\n",
        "import matplotlib.pyplot as plt\n",
        "from os import listdir"
      ]
    },
    {
      "cell_type": "code",
      "source": [
        "# Importing drive method from colab for accessing google drive\n",
        "from google.colab import drive\n",
        "\n",
        "# Mounting drive: this will require authentication : Follow the steps as guided\n",
        "drive.mount('/content/gdrive')"
      ],
      "metadata": {
        "colab": {
          "base_uri": "https://localhost:8080/"
        },
        "id": "TInrGO_0PSxW",
        "outputId": "dc7e5c6b-1415-4ce9-8d2a-1b60c5febd9f"
      },
      "execution_count": 2,
      "outputs": [
        {
          "output_type": "stream",
          "name": "stdout",
          "text": [
            "Mounted at /content/gdrive\n"
          ]
        }
      ]
    },
    {
      "cell_type": "code",
      "source": [
        "# data must be downloaded and path provided\n",
        "data_path = '/content/gdrive/MyDrive/Colab Notebooks/mit-bih-arrhythmia-database-1.0.0'\n",
        "\n"
      ],
      "metadata": {
        "id": "8WubCUz0PeoX"
      },
      "execution_count": null,
      "outputs": []
    },
    {
      "cell_type": "code",
      "source": [
        "# list of patients\n",
        "pts = ['100','101','102','103','104','105','106','107',\n",
        "       '108','109','111','112','113','114','115','116',\n",
        "       '117','118','119','121','122','123','124','200',\n",
        "       '201','202','203','205','207','208','209','210',\n",
        "       '212','213','214','215','217','219','220','221',\n",
        "       '222','223','228','230','231','232','233','234']"
      ],
      "metadata": {
        "id": "0ZgzpB6dPqva"
      },
      "execution_count": null,
      "outputs": []
    },
    {
      "cell_type": "code",
      "source": [
        "import wfdb\n",
        "#!pip install wfdb\n"
      ],
      "metadata": {
        "id": "W9oRtS_UPt5d"
      },
      "execution_count": null,
      "outputs": []
    },
    {
      "cell_type": "code",
      "source": [
        "df = pd.DataFrame()\n",
        "\n",
        "for pt in pts:\n",
        "    file = data_path + '/'+ pt\n",
        "    annotation = wfdb.rdann(file,'atr')\n",
        "    sym = annotation.symbol\n",
        "\n",
        "    values, counts = np.unique(sym, return_counts=True)\n",
        "    df_sub = pd.DataFrame({'sym':values, 'val':counts, 'pt':[pt]*len(counts)})\n",
        "    df = pd.concat([df, df_sub],axis = 0)\n"
      ],
      "metadata": {
        "id": "eOopj2nlP-V2"
      },
      "execution_count": null,
      "outputs": []
    },
    {
      "cell_type": "code",
      "source": [
        "df.groupby('sym').val.sum().sort_values(ascending = False)"
      ],
      "metadata": {
        "colab": {
          "base_uri": "https://localhost:8080/"
        },
        "id": "CHf68JAqP_Ed",
        "outputId": "3a96a64f-45e3-4f99-add6-dbbda761188c"
      },
      "execution_count": null,
      "outputs": [
        {
          "output_type": "execute_result",
          "data": {
            "text/plain": [
              "sym\n",
              "N    75052\n",
              "L     8075\n",
              "R     7259\n",
              "V     7130\n",
              "/     7028\n",
              "A     2546\n",
              "+     1291\n",
              "f      982\n",
              "F      803\n",
              "~      616\n",
              "!      472\n",
              "\"      437\n",
              "j      229\n",
              "x      193\n",
              "a      150\n",
              "|      132\n",
              "E      106\n",
              "J       83\n",
              "Q       33\n",
              "e       16\n",
              "[        6\n",
              "]        6\n",
              "S        2\n",
              "Name: val, dtype: int64"
            ]
          },
          "metadata": {},
          "execution_count": 8
        }
      ]
    },
    {
      "cell_type": "code",
      "source": [
        "# list of nonbeat and abnormal\n",
        "nonbeat = ['[','!',']','x','(',')','p','t','u','`',\n",
        "           '\\'','^','|','~','+','s','T','*','D','=','\"','@','Q','?']\n",
        "abnormal = ['L','R','V','/','A','f','F','j','a','E','J','e','S']"
      ],
      "metadata": {
        "id": "jnx9jBlnX2Ul"
      },
      "execution_count": null,
      "outputs": []
    },
    {
      "cell_type": "code",
      "source": [
        "# break into normal, abnormal or nonbeat\n",
        "df['cat'] = -1\n",
        "df.loc[df.sym == 'N','cat'] = 0\n",
        "df.loc[df.sym.isin(abnormal), 'cat'] = 1\n"
      ],
      "metadata": {
        "id": "NjvOxuRCYC8e"
      },
      "execution_count": null,
      "outputs": []
    },
    {
      "cell_type": "code",
      "source": [
        "df.groupby('cat').val.sum()"
      ],
      "metadata": {
        "colab": {
          "base_uri": "https://localhost:8080/"
        },
        "id": "x5wrpl1NYIjr",
        "outputId": "f7809c4e-ce86-46e6-9493-784fb4fd4fa9"
      },
      "execution_count": null,
      "outputs": [
        {
          "output_type": "execute_result",
          "data": {
            "text/plain": [
              "cat\n",
              "-1     3186\n",
              " 0    75052\n",
              " 1    34409\n",
              "Name: val, dtype: int64"
            ]
          },
          "metadata": {},
          "execution_count": 11
        }
      ]
    },
    {
      "cell_type": "code",
      "source": [
        "def load_ecg(file):\n",
        "    # load the ecg\n",
        "    # example file: 'mit-bih-arrhythmia-database-1.0.0/101'\n",
        "\n",
        "    # load the ecg\n",
        "    record = wfdb.rdrecord(file)\n",
        "    # load the annotation\n",
        "    annotation = wfdb.rdann(file, 'atr')\n",
        "\n",
        "    # extract the signal\n",
        "    p_signal = record.p_signal\n",
        "\n",
        "    # verify frequency is 360\n",
        "    assert record.fs == 360, 'sample freq is not 360'\n",
        "\n",
        "    # extract symbols and annotation index\n",
        "    atr_sym = annotation.symbol\n",
        "    atr_sample = annotation.sample\n",
        "\n",
        "    return p_signal, atr_sym, atr_sample"
      ],
      "metadata": {
        "id": "ZPGlwxV6YOdu"
      },
      "execution_count": null,
      "outputs": []
    },
    {
      "cell_type": "code",
      "source": [
        "file = data_path +'/'+ pts[0]"
      ],
      "metadata": {
        "id": "VKF3iPkaYUMC"
      },
      "execution_count": null,
      "outputs": []
    },
    {
      "cell_type": "code",
      "source": [
        "p_signal, atr_sym, atr_sample = load_ecg(file)"
      ],
      "metadata": {
        "id": "QOQgnYK5Yeie"
      },
      "execution_count": null,
      "outputs": []
    },
    {
      "cell_type": "code",
      "source": [
        "values, counts = np.unique(sym, return_counts=True)\n",
        "for v,c in zip(values, counts):\n",
        "    print(v,c)\n"
      ],
      "metadata": {
        "colab": {
          "base_uri": "https://localhost:8080/"
        },
        "id": "tlU2ctbFZeN2",
        "outputId": "8f849af7-267a-4d20-d36e-34b4440cd469"
      },
      "execution_count": null,
      "outputs": [
        {
          "output_type": "stream",
          "name": "stdout",
          "text": [
            "+ 3\n",
            "J 50\n",
            "N 2700\n",
            "V 3\n",
            "~ 8\n"
          ]
        }
      ]
    },
    {
      "cell_type": "code",
      "source": [
        "# get abnormal beat index\n",
        "ab_index = [b for a,b in zip(atr_sym,atr_sample) if a in abnormal][:10]\n",
        "ab_index\n"
      ],
      "metadata": {
        "colab": {
          "base_uri": "https://localhost:8080/"
        },
        "id": "eBO3vut8ZiF-",
        "outputId": "1802cdc1-47b5-494e-fcb9-240262abe678"
      },
      "execution_count": null,
      "outputs": [
        {
          "output_type": "execute_result",
          "data": {
            "text/plain": [
              "[2044, 66792, 74986, 99579, 128085, 170719, 279576, 305709, 307745, 312825]"
            ]
          },
          "metadata": {},
          "execution_count": 16
        }
      ]
    },
    {
      "cell_type": "code",
      "source": [
        "x = np.arange(len(p_signal))"
      ],
      "metadata": {
        "id": "qGujzSbxZlFg"
      },
      "execution_count": null,
      "outputs": []
    },
    {
      "cell_type": "code",
      "source": [
        "left = ab_index[1]-1080\n",
        "right = ab_index[1]+1080\n",
        "\n",
        "plt.plot(x[left:right],p_signal[left:right,0],'-',label='ecg',)\n",
        "plt.plot(x[atr_sample],p_signal[atr_sample,0],'go',label ='normal')\n",
        "plt.plot(x[ab_index],p_signal[ab_index,0],'ro',label='abnormal')\n",
        "\n",
        "plt.xlim(left,right)\n",
        "plt.ylim(p_signal[left:right].min()-0.05,p_signal[left:right,0].max()+0.05)\n",
        "plt.xlabel('time index')\n",
        "plt.ylabel('ECG signal')\n",
        "plt.legend(bbox_to_anchor = (1.04,1), loc = 'upper left')\n",
        "plt.show()\n"
      ],
      "metadata": {
        "colab": {
          "base_uri": "https://localhost:8080/",
          "height": 279
        },
        "id": "fof0yLVoZmAa",
        "outputId": "c082c4d1-ab24-4df8-8e2f-cb7c0d53769a"
      },
      "execution_count": null,
      "outputs": [
        {
          "output_type": "display_data",
          "data": {
            "text/plain": [
              "<Figure size 432x288 with 1 Axes>"
            ],
            "image/png": "[encoded data removed]"
          },
          "metadata": {
            "needs_background": "light"
          }
        }
      ]
    },
    {
      "cell_type": "code",
      "source": [
        "def make_dataset(pts, num_sec, fs, abnormal):\n",
        "    # function for making dataset ignoring non-beats\n",
        "    # input:\n",
        "    # pts - list of patients\n",
        "    # num_sec = number of seconds to include before and after the beat\n",
        "    # fs = frequency\n",
        "    # output:\n",
        "    #   X_all = signal (nbeats , num_sec * fs columns)\n",
        "    #   Y_all = binary is abnormal (nbeats, 1)\n",
        "    #   sym_all = beat annotation symbol (nbeats,1)\n",
        "\n",
        "    # initialize numpy arrays\n",
        "    num_cols = 2*num_sec * fs\n",
        "    X_all = np.zeros((1,num_cols))\n",
        "    Y_all = np.zeros((1,1))\n",
        "    sym_all = []\n",
        "\n",
        "    # list to keep track of number of beats across patients\n",
        "    max_rows = []\n",
        "\n",
        "    for pt in pts:\n",
        "        file = data_path +'/'+ pt\n",
        "\n",
        "        p_signal, atr_sym, atr_sample = load_ecg(file)\n",
        "\n",
        "        # grab the first signal\n",
        "        p_signal = p_signal[:,0]\n",
        "\n",
        "        # make df to exclude the nonbeats\n",
        "        df_ann = pd.DataFrame({'atr_sym':atr_sym,\n",
        "                              'atr_sample':atr_sample})\n",
        "        df_ann = df_ann.loc[df_ann.atr_sym.isin(abnormal + ['N'])]\n",
        "\n",
        "        X,Y,sym = build_XY(p_signal,df_ann, num_cols, abnormal)\n",
        "        sym_all = sym_all+sym\n",
        "        max_rows.append(X.shape[0])\n",
        "        X_all = np.append(X_all,X,axis = 0)\n",
        "        Y_all = np.append(Y_all,Y,axis = 0)\n",
        "    # drop the first zero row\n",
        "    X_all = X_all[1:,:]\n",
        "    Y_all = Y_all[1:,:]\n",
        "\n",
        "    # check sizes make sense\n",
        "    assert np.sum(max_rows) == X_all.shape[0], 'number of X, max_rows rows messed up'\n",
        "    assert Y_all.shape[0] == X_all.shape[0], 'number of X, Y rows messed up'\n",
        "    assert Y_all.shape[0] == len(sym_all), 'number of Y, sym rows messed up'\n",
        "\n",
        "    return X_all, Y_all, sym_all\n",
        "\n",
        "\n",
        "\n",
        "def build_XY(p_signal, df_ann, num_cols, abnormal):\n",
        "    # this function builds the X,Y matrices for each beat\n",
        "    # it also returns the original symbols for Y\n",
        "\n",
        "    num_rows = len(df_ann)\n",
        "\n",
        "    X = np.zeros((num_rows, num_cols))\n",
        "    Y = np.zeros((num_rows,1))\n",
        "    sym = []\n",
        "\n",
        "    # keep track of rows\n",
        "    max_row = 0\n",
        "\n",
        "    for atr_sample, atr_sym in zip(df_ann.atr_sample.values,df_ann.atr_sym.values):\n",
        "\n",
        "        left = max([0,(atr_sample - num_sec*fs) ])\n",
        "        right = min([len(p_signal),(atr_sample + num_sec*fs) ])\n",
        "        x = p_signal[left: right]\n",
        "        if len(x) == num_cols:\n",
        "            X[max_row,:] = x\n",
        "            Y[max_row,:] = int(atr_sym in abnormal)\n",
        "            sym.append(atr_sym)\n",
        "            max_row += 1\n",
        "    X = X[:max_row,:]\n",
        "    Y = Y[:max_row,:]\n",
        "    return X,Y,sym\n",
        "\n"
      ],
      "metadata": {
        "id": "ZoD6E-1vZy6A"
      },
      "execution_count": null,
      "outputs": []
    },
    {
      "cell_type": "code",
      "source": [
        "num_sec = 3\n",
        "fs = 360\n",
        "\n"
      ],
      "metadata": {
        "id": "DBBMVQkBZ3Jl"
      },
      "execution_count": null,
      "outputs": []
    },
    {
      "cell_type": "code",
      "source": [
        "X_all, Y_all, sym_all = make_dataset(pts, num_sec, fs, abnormal)\n"
      ],
      "metadata": {
        "id": "_AVPRtooZ8RI"
      },
      "execution_count": null,
      "outputs": []
    },
    {
      "cell_type": "code",
      "source": [
        "from sklearn.model_selection import train_test_split\n",
        "\n",
        "X_train, X_valid, y_train, y_valid = train_test_split(X_all, Y_all, test_size=0.33, random_state=42)"
      ],
      "metadata": {
        "id": "zZBu5y7bae20"
      },
      "execution_count": null,
      "outputs": []
    },
    {
      "cell_type": "code",
      "source": [
        "from keras.models import Sequential\n",
        "from keras.layers import Dense, Flatten, Dropout\n",
        "from keras.utils import to_categorical"
      ],
      "metadata": {
        "id": "l4teFmA0aks3"
      },
      "execution_count": null,
      "outputs": []
    },
    {
      "cell_type": "code",
      "source": [
        "# build the same model\n",
        "# lets test out relu (a different activation function) and add drop out (for regularization)\n",
        "model = Sequential()\n",
        "model.add(Dense(32, activation = 'relu', input_dim = X_train.shape[1]))\n",
        "model.add(Dropout(rate = 0.25))\n",
        "model.add(Dense(1, activation = 'sigmoid'))\n"
      ],
      "metadata": {
        "id": "kECcYyU4hDPU"
      },
      "execution_count": null,
      "outputs": []
    },
    {
      "cell_type": "code",
      "source": [
        "# compile the model - use categorical crossentropy, and the adam optimizer\n",
        "model.compile(\n",
        "                loss = 'binary_crossentropy',\n",
        "                optimizer = 'adam',\n",
        "                metrics = ['accuracy'])"
      ],
      "metadata": {
        "id": "YVIOxFGohTwy"
      },
      "execution_count": null,
      "outputs": []
    },
    {
      "cell_type": "code",
      "source": [
        "model.fit(X_train, y_train, batch_size = 32, epochs= 5, verbose = 1)"
      ],
      "metadata": {
        "colab": {
          "base_uri": "https://localhost:8080/"
        },
        "id": "z6q2xlB8hXhu",
        "outputId": "338fdd7e-2d3e-4458-8e62-f7799cece823"
      },
      "execution_count": null,
      "outputs": [
        {
          "output_type": "stream",
          "name": "stdout",
          "text": [
            "Epoch 1/5\n",
            "2285/2285 [==============================] - 11s 4ms/step - loss: 0.2469 - accuracy: 0.9077\n",
            "Epoch 2/5\n",
            "2285/2285 [==============================] - 8s 3ms/step - loss: 0.1643 - accuracy: 0.9474\n",
            "Epoch 3/5\n",
            "2285/2285 [==============================] - 8s 3ms/step - loss: 0.1421 - accuracy: 0.9552\n",
            "Epoch 4/5\n",
            "2285/2285 [==============================] - 8s 3ms/step - loss: 0.1343 - accuracy: 0.9580\n",
            "Epoch 5/5\n",
            "2285/2285 [==============================] - 8s 3ms/step - loss: 0.1243 - accuracy: 0.9615\n"
          ]
        },
        {
          "output_type": "execute_result",
          "data": {
            "text/plain": [
              "<keras.callbacks.History at 0x7f38b00a8100>"
            ]
          },
          "metadata": {},
          "execution_count": 28
        }
      ]
    },
    {
      "cell_type": "code",
      "source": [
        "from sklearn.metrics import roc_auc_score, accuracy_score, precision_score, recall_score\n",
        "def calc_prevalence(y_actual):\n",
        "    return (sum(y_actual)/len(y_actual))\n",
        "def calc_specificity(y_actual, y_pred, thresh):\n",
        "    # calculates specificity\n",
        "    return sum((y_pred < thresh) & (y_actual == 0)) /sum(y_actual ==0)\n",
        "def print_report(y_actual, y_pred, thresh):\n",
        "\n",
        "    auc = roc_auc_score(y_actual, y_pred)\n",
        "    accuracy = accuracy_score(y_actual, (y_pred > thresh))\n",
        "    recall = recall_score(y_actual, (y_pred > thresh))\n",
        "    precision = precision_score(y_actual, (y_pred > thresh))\n",
        "    specificity = calc_specificity(y_actual, y_pred, thresh)\n",
        "    print('AUC:%.3f'%auc)\n",
        "    print('accuracy:%.3f'%accuracy)\n",
        "    print('recall:%.3f'%recall)\n",
        "    print('precision:%.3f'%precision)\n",
        "    print('specificity:%.3f'%specificity)\n",
        "    print('prevalence:%.3f'%calc_prevalence(y_actual))\n",
        "    print(' ')\n",
        "    return auc, accuracy, recall, precision, specificity"
      ],
      "metadata": {
        "id": "Q0EJbOl5hnWU"
      },
      "execution_count": null,
      "outputs": []
    },
    {
      "cell_type": "code",
      "source": [
        "y_train_preds_dense = model.predict(X_train,verbose = 1)\n",
        "y_valid_preds_dense = model.predict(X_valid,verbose = 1)\n",
        ""
      ],
      "metadata": {
        "colab": {
          "base_uri": "https://localhost:8080/"
        },
        "id": "eeAKRSUThw7q",
        "outputId": "c9786229-3c3c-4ae8-ee92-b06716bc1264"
      },
      "execution_count": null,
      "outputs": [
        {
          "output_type": "stream",
          "name": "stdout",
          "text": [
            "2285/2285 [==============================] - 4s 2ms/step\n",
            "1126/1126 [==============================] - 2s 2ms/step\n"
          ]
        }
      ]
    },
    {
      "cell_type": "code",
      "source": [
        "thresh = (sum(y_train)/len(y_train))[0]\n",
        "thresh"
      ],
      "metadata": {
        "colab": {
          "base_uri": "https://localhost:8080/"
        },
        "id": "91uCpl_EkECR",
        "outputId": "01ba0aeb-e645-409c-f772-ebb64d35e3aa"
      },
      "execution_count": null,
      "outputs": [
        {
          "output_type": "execute_result",
          "data": {
            "text/plain": [
              "0.3147641457808909"
            ]
          },
          "metadata": {},
          "execution_count": 25
        }
      ]
    },
    {
      "cell_type": "code",
      "source": [
        "print('Train');\n",
        "print_report(y_train, y_train_preds_dense, thresh)\n",
        "print('Valid');\n",
        "print_report(y_valid, y_valid_preds_dense, thresh);"
      ],
      "metadata": {
        "colab": {
          "base_uri": "https://localhost:8080/"
        },
        "id": "nQ7XM437kI6k",
        "outputId": "e4473c6a-a463-464f-8f91-33097f77685c"
      },
      "execution_count": null,
      "outputs": [
        {
          "output_type": "stream",
          "name": "stdout",
          "text": [
            "Train\n",
            "AUC:0.992\n",
            "accuracy:0.971\n",
            "recall:0.958\n",
            "precision:0.951\n",
            "specificity:0.977\n",
            "prevalence:0.315\n",
            " \n",
            "Valid\n",
            "AUC:0.988\n",
            "accuracy:0.964\n",
            "recall:0.949\n",
            "precision:0.938\n",
            "specificity:0.971\n",
            "prevalence:0.314\n",
            " \n"
          ]
        }
      ]
    },
    {
      "cell_type": "code",
      "source": [
        "import random\n",
        "random.seed( 42 )\n",
        "pts_train = random.sample(pts, 36)\n",
        "pts_valid = [pt for pt in pts if pt not in pts_train]\n",
        "print(len(pts_train), len(pts_valid))\n"
      ],
      "metadata": {
        "colab": {
          "base_uri": "https://localhost:8080/"
        },
        "id": "7DDk6G3Hmxg4",
        "outputId": "339c0e2d-763f-4e14-d588-aad5bb6eb10d"
      },
      "execution_count": null,
      "outputs": [
        {
          "output_type": "stream",
          "name": "stdout",
          "text": [
            "36 12\n"
          ]
        }
      ]
    },
    {
      "cell_type": "code",
      "source": [
        "X_train, y_train, sym_train = make_dataset(pts_train, num_sec, fs, abnormal)\n",
        "X_valid, y_valid, sym_valid = make_dataset(pts_valid, num_sec, fs, abnormal)\n",
        "print(X_train.shape, y_train.shape, len(sym_train))\n",
        "print(X_valid.shape, y_valid.shape, len(sym_valid))\n"
      ],
      "metadata": {
        "colab": {
          "base_uri": "https://localhost:8080/"
        },
        "id": "z-EZdkAtm1Gn",
        "outputId": "1800d62b-3ec3-497b-e4f1-6af35f41b006"
      },
      "execution_count": null,
      "outputs": [
        {
          "output_type": "stream",
          "name": "stdout",
          "text": [
            "(80614, 2160) (80614, 1) 80614\n",
            "(28485, 2160) (28485, 1) 28485\n"
          ]
        }
      ]
    },
    {
      "cell_type": "code",
      "source": [
        "# build the same model\n",
        "# lets test out relu (a different activation function) and add drop out (for regularization)\n",
        "model = Sequential()\n",
        "model.add(Dense(32, activation = 'relu', input_dim = X_train.shape[1]))\n",
        "model.add(Dropout(rate = 0.25))\n",
        "model.add(Dense(1, activation = 'sigmoid'))\n",
        "\n",
        "# compile the model - use categorical crossentropy, and the adam optimizer\n",
        "model.compile(\n",
        "                loss = 'binary_crossentropy',\n",
        "                optimizer = 'adam',\n",
        "                metrics = ['accuracy'])\n",
        "\n",
        "model.fit(X_train, y_train, batch_size = 32, epochs= 5, verbose = 1)\n"
      ],
      "metadata": {
        "colab": {
          "base_uri": "https://localhost:8080/",
          "height": 415
        },
        "id": "J5HLi7vNnIUt",
        "outputId": "2cb8fe84-bca8-47fb-e079-5fdf673c1350"
      },
      "execution_count": null,
      "outputs": [
        {
          "output_type": "stream",
          "name": "stdout",
          "text": [
            "Epoch 1/5\n",
            "2520/2520 [==============================] - 9s 3ms/step - loss: 0.2261 - accuracy: 0.9197\n",
            "Epoch 2/5\n",
            " 393/2520 [===>..........................] - ETA: 6s - loss: 0.1465 - accuracy: 0.9545"
          ]
        },
        {
          "output_type": "error",
          "ename": "KeyboardInterrupt",
          "evalue": "ignored",
          "traceback": [
            "\u001b[0;31m---------------------------------------------------------------------------\u001b[0m",
            "\u001b[0;31mKeyboardInterrupt\u001b[0m                         Traceback (most recent call last)",
            "\u001b[0;32m<ipython-input-33-f612416e09ee>\u001b[0m in \u001b[0;36m<module>\u001b[0;34m\u001b[0m\n\u001b[1;32m     12\u001b[0m                 metrics = ['accuracy'])\n\u001b[1;32m     13\u001b[0m \u001b[0;34m\u001b[0m\u001b[0m\n\u001b[0;32m---> 14\u001b[0;31m \u001b[0mmodel\u001b[0m\u001b[0;34m.\u001b[0m\u001b[0mfit\u001b[0m\u001b[0;34m(\u001b[0m\u001b[0mX_train\u001b[0m\u001b[0;34m,\u001b[0m \u001b[0my_train\u001b[0m\u001b[0;34m,\u001b[0m \u001b[0mbatch_size\u001b[0m \u001b[0;34m=\u001b[0m \u001b[0;36m32\u001b[0m\u001b[0;34m,\u001b[0m \u001b[0mepochs\u001b[0m\u001b[0;34m=\u001b[0m \u001b[0;36m5\u001b[0m\u001b[0;34m,\u001b[0m \u001b[0mverbose\u001b[0m \u001b[0;34m=\u001b[0m \u001b[0;36m1\u001b[0m\u001b[0;34m)\u001b[0m\u001b[0;34m\u001b[0m\u001b[0;34m\u001b[0m\u001b[0m\n\u001b[0m",
            "\u001b[0;32m/usr/local/lib/python3.8/dist-packages/keras/utils/traceback_utils.py\u001b[0m in \u001b[0;36merror_handler\u001b[0;34m(*args, **kwargs)\u001b[0m\n\u001b[1;32m     62\u001b[0m     \u001b[0mfiltered_tb\u001b[0m \u001b[0;34m=\u001b[0m \u001b[0;32mNone\u001b[0m\u001b[0;34m\u001b[0m\u001b[0;34m\u001b[0m\u001b[0m\n\u001b[1;32m     63\u001b[0m     \u001b[0;32mtry\u001b[0m\u001b[0;34m:\u001b[0m\u001b[0;34m\u001b[0m\u001b[0;34m\u001b[0m\u001b[0m\n\u001b[0;32m---> 64\u001b[0;31m       \u001b[0;32mreturn\u001b[0m \u001b[0mfn\u001b[0m\u001b[0;34m(\u001b[0m\u001b[0;34m*\u001b[0m\u001b[0margs\u001b[0m\u001b[0;34m,\u001b[0m \u001b[0;34m**\u001b[0m\u001b[0mkwargs\u001b[0m\u001b[0;34m)\u001b[0m\u001b[0;34m\u001b[0m\u001b[0;34m\u001b[0m\u001b[0m\n\u001b[0m\u001b[1;32m     65\u001b[0m     \u001b[0;32mexcept\u001b[0m \u001b[0mException\u001b[0m \u001b[0;32mas\u001b[0m \u001b[0me\u001b[0m\u001b[0;34m:\u001b[0m  \u001b[0;31m# pylint: disable=broad-except\u001b[0m\u001b[0;34m\u001b[0m\u001b[0;34m\u001b[0m\u001b[0m\n\u001b[1;32m     66\u001b[0m       \u001b[0mfiltered_tb\u001b[0m \u001b[0;34m=\u001b[0m \u001b[0m_process_traceback_frames\u001b[0m\u001b[0;34m(\u001b[0m\u001b[0me\u001b[0m\u001b[0;34m.\u001b[0m\u001b[0m__traceback__\u001b[0m\u001b[0;34m)\u001b[0m\u001b[0;34m\u001b[0m\u001b[0;34m\u001b[0m\u001b[0m\n",
            "\u001b[0;32m/usr/local/lib/python3.8/dist-packages/keras/engine/training.py\u001b[0m in \u001b[0;36mfit\u001b[0;34m(self, x, y, batch_size, epochs, verbose, callbacks, validation_split, validation_data, shuffle, class_weight, sample_weight, initial_epoch, steps_per_epoch, validation_steps, validation_batch_size, validation_freq, max_queue_size, workers, use_multiprocessing)\u001b[0m\n\u001b[1;32m   1399\u001b[0m         \u001b[0;32mwith\u001b[0m \u001b[0mdata_handler\u001b[0m\u001b[0;34m.\u001b[0m\u001b[0mcatch_stop_iteration\u001b[0m\u001b[0;34m(\u001b[0m\u001b[0;34m)\u001b[0m\u001b[0;34m:\u001b[0m\u001b[0;34m\u001b[0m\u001b[0;34m\u001b[0m\u001b[0m\n\u001b[1;32m   1400\u001b[0m           \u001b[0mdata_handler\u001b[0m\u001b[0;34m.\u001b[0m\u001b[0m_initial_step\u001b[0m \u001b[0;34m=\u001b[0m \u001b[0mself\u001b[0m\u001b[0;34m.\u001b[0m\u001b[0m_maybe_load_initial_step_from_ckpt\u001b[0m\u001b[0;34m(\u001b[0m\u001b[0;34m)\u001b[0m  \u001b[0;31m# pylint: disable=protected-access\u001b[0m\u001b[0;34m\u001b[0m\u001b[0;34m\u001b[0m\u001b[0m\n\u001b[0;32m-> 1401\u001b[0;31m           \u001b[0;32mfor\u001b[0m \u001b[0mstep\u001b[0m \u001b[0;32min\u001b[0m \u001b[0mdata_handler\u001b[0m\u001b[0;34m.\u001b[0m\u001b[0msteps\u001b[0m\u001b[0;34m(\u001b[0m\u001b[0;34m)\u001b[0m\u001b[0;34m:\u001b[0m\u001b[0;34m\u001b[0m\u001b[0;34m\u001b[0m\u001b[0m\n\u001b[0m\u001b[1;32m   1402\u001b[0m             with tf.profiler.experimental.Trace(\n\u001b[1;32m   1403\u001b[0m                 \u001b[0;34m'train'\u001b[0m\u001b[0;34m,\u001b[0m\u001b[0;34m\u001b[0m\u001b[0;34m\u001b[0m\u001b[0m\n",
            "\u001b[0;32m/usr/local/lib/python3.8/dist-packages/keras/engine/data_adapter.py\u001b[0m in \u001b[0;36msteps\u001b[0;34m(self)\u001b[0m\n\u001b[1;32m   1246\u001b[0m       \u001b[0;32mif\u001b[0m \u001b[0mself\u001b[0m\u001b[0;34m.\u001b[0m\u001b[0m_insufficient_data\u001b[0m\u001b[0;34m:\u001b[0m  \u001b[0;31m# Set by `catch_stop_iteration`.\u001b[0m\u001b[0;34m\u001b[0m\u001b[0;34m\u001b[0m\u001b[0m\n\u001b[1;32m   1247\u001b[0m         \u001b[0;32mbreak\u001b[0m\u001b[0;34m\u001b[0m\u001b[0;34m\u001b[0m\u001b[0m\n\u001b[0;32m-> 1248\u001b[0;31m       \u001b[0moriginal_spe\u001b[0m \u001b[0;34m=\u001b[0m \u001b[0mself\u001b[0m\u001b[0;34m.\u001b[0m\u001b[0m_steps_per_execution\u001b[0m\u001b[0;34m.\u001b[0m\u001b[0mnumpy\u001b[0m\u001b[0;34m(\u001b[0m\u001b[0;34m)\u001b[0m\u001b[0;34m.\u001b[0m\u001b[0mitem\u001b[0m\u001b[0;34m(\u001b[0m\u001b[0;34m)\u001b[0m\u001b[0;34m\u001b[0m\u001b[0;34m\u001b[0m\u001b[0m\n\u001b[0m\u001b[1;32m   1249\u001b[0m       can_run_full_execution = (\n\u001b[1;32m   1250\u001b[0m           \u001b[0moriginal_spe\u001b[0m \u001b[0;34m==\u001b[0m \u001b[0;36m1\u001b[0m \u001b[0;32mor\u001b[0m\u001b[0;34m\u001b[0m\u001b[0;34m\u001b[0m\u001b[0m\n",
            "\u001b[0;32m/usr/local/lib/python3.8/dist-packages/tensorflow/python/ops/resource_variable_ops.py\u001b[0m in \u001b[0;36mnumpy\u001b[0;34m(self)\u001b[0m\n\u001b[1;32m    635\u001b[0m   \u001b[0;32mdef\u001b[0m \u001b[0mnumpy\u001b[0m\u001b[0;34m(\u001b[0m\u001b[0mself\u001b[0m\u001b[0;34m)\u001b[0m\u001b[0;34m:\u001b[0m\u001b[0;34m\u001b[0m\u001b[0;34m\u001b[0m\u001b[0m\n\u001b[1;32m    636\u001b[0m     \u001b[0;32mif\u001b[0m \u001b[0mcontext\u001b[0m\u001b[0;34m.\u001b[0m\u001b[0mexecuting_eagerly\u001b[0m\u001b[0;34m(\u001b[0m\u001b[0;34m)\u001b[0m\u001b[0;34m:\u001b[0m\u001b[0;34m\u001b[0m\u001b[0;34m\u001b[0m\u001b[0m\n\u001b[0;32m--> 637\u001b[0;31m       \u001b[0;32mreturn\u001b[0m \u001b[0mself\u001b[0m\u001b[0;34m.\u001b[0m\u001b[0mread_value\u001b[0m\u001b[0;34m(\u001b[0m\u001b[0;34m)\u001b[0m\u001b[0;34m.\u001b[0m\u001b[0mnumpy\u001b[0m\u001b[0;34m(\u001b[0m\u001b[0;34m)\u001b[0m\u001b[0;34m\u001b[0m\u001b[0;34m\u001b[0m\u001b[0m\n\u001b[0m\u001b[1;32m    638\u001b[0m     raise NotImplementedError(\n\u001b[1;32m    639\u001b[0m         \"numpy() is only available when eager execution is enabled.\")\n",
            "\u001b[0;31mKeyboardInterrupt\u001b[0m: "
          ]
        }
      ]
    },
    {
      "cell_type": "code",
      "source": [
        "y_train_preds_dense = model.predict(X_train,verbose = 1)\n",
        "y_valid_preds_dense = model.predict(X_valid,verbose = 1)"
      ],
      "metadata": {
        "colab": {
          "base_uri": "https://localhost:8080/"
        },
        "id": "UDnONbTDnYuA",
        "outputId": "3f1e3f48-1f43-48b0-ce42-e0bdd737874e"
      },
      "execution_count": null,
      "outputs": [
        {
          "output_type": "stream",
          "name": "stdout",
          "text": [
            "2520/2520 [==============================] - 3s 1ms/step\n",
            "891/891 [==============================] - 1s 1ms/step\n"
          ]
        }
      ]
    },
    {
      "cell_type": "code",
      "source": [
        "thresh = (sum(y_train)/len(y_train))[0]\n",
        "thresh\n",
        "\n"
      ],
      "metadata": {
        "colab": {
          "base_uri": "https://localhost:8080/"
        },
        "id": "nLutfsPvnpGp",
        "outputId": "2a65318f-2980-4f6a-d0f7-3be5822fe154"
      },
      "execution_count": null,
      "outputs": [
        {
          "output_type": "execute_result",
          "data": {
            "text/plain": [
              "0.29906715955045027"
            ]
          },
          "metadata": {},
          "execution_count": 28
        }
      ]
    },
    {
      "cell_type": "code",
      "source": [
        "\n",
        "print('Train');\n",
        "print_report(y_train, y_train_preds_dense, thresh)\n",
        "print('Valid');\n",
        "print_report(y_valid, y_valid_preds_dense, thresh);\n"
      ],
      "metadata": {
        "colab": {
          "base_uri": "https://localhost:8080/"
        },
        "id": "y8eYgp6ZnsN3",
        "outputId": "80cb11d0-e1bb-460f-bdcf-914274dc8f11"
      },
      "execution_count": null,
      "outputs": [
        {
          "output_type": "stream",
          "name": "stdout",
          "text": [
            "Train\n",
            "AUC:0.994\n",
            "accuracy:0.974\n",
            "recall:0.957\n",
            "precision:0.958\n",
            "specificity:0.982\n",
            "prevalence:0.299\n",
            " \n",
            "Valid\n",
            "AUC:0.818\n",
            "accuracy:0.752\n",
            "recall:0.460\n",
            "precision:0.749\n",
            "specificity:0.914\n",
            "prevalence:0.358\n",
            " \n"
          ]
        }
      ]
    },
    {
      "cell_type": "code",
      "source": [
        "aucs_train = []\n",
        "aucs_valid = []\n",
        "\n",
        "n_pts = [1,18,36]\n",
        "for n_pt in n_pts:\n",
        "\n",
        "    print(n_pt)\n",
        "    pts_sub = pts_train[:n_pt]\n",
        "    X_sub, y_sub, sym_sub = make_dataset(pts_sub, num_sec, fs,abnormal)\n",
        "\n",
        "    # build the same model\n",
        "    # lets test out relu (a different activation function) and add drop out (for regularization)\n",
        "    model = Sequential()\n",
        "    model.add(Dense(32, activation = 'relu', input_dim = X_train.shape[1]))\n",
        "    model.add(Dropout(rate = 0.25))\n",
        "    model.add(Dense(1, activation = 'sigmoid'))\n",
        "\n",
        "    # compile the model - use categorical crossentropy, and the adam optimizer\n",
        "    model.compile(\n",
        "                    loss = 'binary_crossentropy',\n",
        "                    optimizer = 'adam',\n",
        "                    metrics = ['accuracy'])\n",
        "\n",
        "    model.fit(X_sub, y_sub, batch_size = 32, epochs= 5, verbose = 0)\n",
        "    y_sub_preds_dense = model.predict(X_sub,verbose = 0)\n",
        "    y_valid_preds_dense = model.predict(X_valid,verbose = 0)\n",
        "\n",
        "    auc_train = roc_auc_score(y_sub, y_sub_preds_dense)\n",
        "    auc_valid = roc_auc_score(y_valid, y_valid_preds_dense)\n",
        "    print('-',auc_train, auc_valid)\n",
        "    aucs_train.append(auc_train)\n",
        "    aucs_valid.append(auc_valid)"
      ],
      "metadata": {
        "colab": {
          "base_uri": "https://localhost:8080/"
        },
        "id": "iA1WReigny8z",
        "outputId": "026738a9-0bc4-45ad-ca1e-0c1e55d54b39"
      },
      "execution_count": null,
      "outputs": [
        {
          "output_type": "stream",
          "name": "stdout",
          "text": [
            "1\n",
            "- 0.9472748876853639 0.6913944753093786\n",
            "18\n",
            "- 0.9950666458398416 0.7806497733775843\n",
            "36\n",
            "- 0.9930592219452365 0.8613632552326409\n"
          ]
        }
      ]
    },
    {
      "cell_type": "code",
      "source": [
        "plt.plot(n_pts, aucs_train, 'o-',label = 'Train')\n",
        "plt.plot(n_pts, aucs_valid, 'o-',label = 'Valid')\n",
        "plt.xlabel('Number Training Pts')\n",
        "plt.ylabel('AUC')\n",
        "plt.legend(bbox_to_anchor = (1.04,1), loc = 'upper left')\n",
        "plt.show()\n"
      ],
      "metadata": {
        "colab": {
          "base_uri": "https://localhost:8080/",
          "height": 279
        },
        "id": "46uuzgaroCM4",
        "outputId": "aac28143-ea27-4d8f-8eca-f8f974a2c3e3"
      },
      "execution_count": null,
      "outputs": [
        {
          "output_type": "display_data",
          "data": {
            "text/plain": [
              "<Figure size 432x288 with 1 Axes>"
            ],
            "image/png": "[encoded data removed]"
          },
          "metadata": {
            "needs_background": "light"
          }
        }
      ]
    },
    {
      "cell_type": "markdown",
      "source": [
        "CNN"
      ],
      "metadata": {
        "id": "t1C46hjsttrK"
      }
    },
    {
      "cell_type": "code",
      "source": [
        "X_train_cnn = np.reshape(X_train, (X_train.shape[0], X_train.shape[1], 1))\n",
        "X_valid_cnn = np.reshape(X_valid, (X_valid.shape[0], X_valid.shape[1], 1))\n",
        "\n",
        "print(X_train_cnn.shape)\n",
        "print(X_valid_cnn.shape)\n"
      ],
      "metadata": {
        "colab": {
          "base_uri": "https://localhost:8080/"
        },
        "id": "jS7U0TqwrFls",
        "outputId": "554616d1-1817-4976-c5e0-d8a33d95a8c8"
      },
      "execution_count": null,
      "outputs": [
        {
          "output_type": "stream",
          "name": "stdout",
          "text": [
            "(80614, 2160, 1)\n",
            "(28485, 2160, 1)\n"
          ]
        }
      ]
    },
    {
      "cell_type": "code",
      "source": [
        "\n",
        "from keras.layers import Conv1D,Conv2D"
      ],
      "metadata": {
        "id": "L_zD2eCSrOoA"
      },
      "execution_count": null,
      "outputs": []
    },
    {
      "cell_type": "code",
      "source": [
        "model = Sequential()\n",
        "model.add(Conv1D(filters = 128, kernel_size = 5, activation = 'relu', input_shape = (2160,1)))\n",
        "model.add(Dropout(rate = 0.25))\n",
        "model.add(Flatten())\n",
        "model.add(Dense(1, activation = 'sigmoid'))\n",
        "\n",
        "# compile the model - use categorical crossentropy, and the adam optimizer\n",
        "model.compile(\n",
        "                loss = 'binary_crossentropy',\n",
        "                optimizer = 'adam',\n",
        "                metrics = ['accuracy'])\n"
      ],
      "metadata": {
        "id": "5JahJ7JcrQ9H"
      },
      "execution_count": null,
      "outputs": []
    },
    {
      "cell_type": "code",
      "source": [
        "model.fit(X_train_cnn, y_train, batch_size = 32, epochs= 5, verbose = 1)"
      ],
      "metadata": {
        "colab": {
          "base_uri": "https://localhost:8080/"
        },
        "id": "NkQJlmW1rT1P",
        "outputId": "a0b46ea8-6856-40e7-be2b-50b3983877a8"
      },
      "execution_count": null,
      "outputs": [
        {
          "output_type": "stream",
          "name": "stdout",
          "text": [
            "Epoch 1/5\n",
            "2520/2520 [==============================] - 17s 3ms/step - loss: 0.1907 - accuracy: 0.9373\n",
            "Epoch 2/5\n",
            "2520/2520 [==============================] - 8s 3ms/step - loss: 0.1154 - accuracy: 0.9655\n",
            "Epoch 3/5\n",
            "2520/2520 [==============================] - 8s 3ms/step - loss: 0.0968 - accuracy: 0.9716\n",
            "Epoch 4/5\n",
            "2520/2520 [==============================] - 8s 3ms/step - loss: 0.0877 - accuracy: 0.9734\n",
            "Epoch 5/5\n",
            "2520/2520 [==============================] - 8s 3ms/step - loss: 0.0820 - accuracy: 0.9753\n"
          ]
        },
        {
          "output_type": "execute_result",
          "data": {
            "text/plain": [
              "<keras.callbacks.History at 0x7f43d45dc7f0>"
            ]
          },
          "metadata": {},
          "execution_count": 32
        }
      ]
    },
    {
      "cell_type": "code",
      "source": [
        "y_train_preds_cnn = model.predict(X_train_cnn,verbose = 1)\n",
        "y_valid_preds_cnn = model.predict(X_valid_cnn,verbose = 1)"
      ],
      "metadata": {
        "colab": {
          "base_uri": "https://localhost:8080/"
        },
        "id": "1cqvZSSBrYCi",
        "outputId": "2fe78855-8d7b-4ea4-ddb6-1fc16cebfb81"
      },
      "execution_count": null,
      "outputs": [
        {
          "output_type": "stream",
          "name": "stdout",
          "text": [
            "2520/2520 [==============================] - 4s 1ms/step\n",
            "891/891 [==============================] - 1s 1ms/step\n"
          ]
        }
      ]
    },
    {
      "cell_type": "code",
      "source": [
        "y_train_preds_cnn.shape"
      ],
      "metadata": {
        "colab": {
          "base_uri": "https://localhost:8080/"
        },
        "id": "EdVjDkq75s9y",
        "outputId": "7c9ad6cc-b94d-4e2a-8eae-d54e7ae456f6"
      },
      "execution_count": null,
      "outputs": [
        {
          "output_type": "execute_result",
          "data": {
            "text/plain": [
              "(80614, 1)"
            ]
          },
          "metadata": {},
          "execution_count": 34
        }
      ]
    },
    {
      "cell_type": "code",
      "source": [
        "print('Train');\n",
        "print_report(y_train, y_train_preds_cnn, thresh)\n",
        "print('Valid');\n",
        "print_report(y_valid, y_valid_preds_cnn, thresh);\n"
      ],
      "metadata": {
        "colab": {
          "base_uri": "https://localhost:8080/"
        },
        "id": "d7O4_QtlrY-t",
        "outputId": "3f59b20c-549d-4a68-9fbb-84d9d7e57354"
      },
      "execution_count": null,
      "outputs": [
        {
          "output_type": "stream",
          "name": "stdout",
          "text": [
            "Train\n",
            "AUC:0.995\n",
            "accuracy:0.971\n",
            "recall:0.974\n",
            "precision:0.934\n",
            "specificity:0.971\n",
            "prevalence:0.299\n",
            " \n",
            "Valid\n",
            "AUC:0.928\n",
            "accuracy:0.847\n",
            "recall:0.838\n",
            "precision:0.760\n",
            "specificity:0.852\n",
            "prevalence:0.358\n",
            " \n"
          ]
        }
      ]
    },
    {
      "cell_type": "markdown",
      "source": [
        "LSTM\n"
      ],
      "metadata": {
        "id": "-O47oHgxthYy"
      }
    },
    {
      "cell_type": "code",
      "source": [
        "from keras.layers import Bidirectional, LSTM,TimeDistributed,MaxPooling1D"
      ],
      "metadata": {
        "id": "PJJ68uS_tlys"
      },
      "execution_count": null,
      "outputs": []
    },
    {
      "cell_type": "code",
      "source": [
        "model = Sequential()\n",
        "model.add(Bidirectional(LSTM(64, input_shape=(X_train_cnn.shape[1], X_train_cnn.shape[2]))))\n",
        "model.add(Dropout(rate = 0.5))\n",
        "model.add(Dense(1, activation = 'sigmoid'))\n",
        "model.compile(\n",
        "                loss = 'binary_crossentropy',\n",
        "                optimizer = 'adam',\n",
        "                metrics = ['accuracy'])\n"
      ],
      "metadata": {
        "id": "h4yFMfd6t6cK"
      },
      "execution_count": null,
      "outputs": []
    },
    {
      "cell_type": "code",
      "source": [
        "model.summary()"
      ],
      "metadata": {
        "colab": {
          "base_uri": "https://localhost:8080/"
        },
        "id": "kpoyTRHFRzFs",
        "outputId": "d325a466-e597-4a47-8a4a-2b79f76cdc94"
      },
      "execution_count": null,
      "outputs": [
        {
          "output_type": "stream",
          "name": "stdout",
          "text": [
            "Model: \"sequential_2\"\n",
            "_________________________________________________________________\n",
            " Layer (type)                Output Shape              Param #   \n",
            "=================================================================\n",
            " bidirectional (Bidirectiona  (None, 128)              33792     \n",
            " l)                                                              \n",
            "                                                                 \n",
            " dropout_2 (Dropout)         (None, 128)               0         \n",
            "                                                                 \n",
            " dense_4 (Dense)             (None, 1)                 129       \n",
            "                                                                 \n",
            "=================================================================\n",
            "Total params: 33,921\n",
            "Trainable params: 33,921\n",
            "Non-trainable params: 0\n",
            "_________________________________________________________________\n"
          ]
        }
      ]
    },
    {
      "cell_type": "code",
      "source": [
        "#model.fit(X_train_cnn[:10000], y_train[:10000], batch_size = 32, epochs= 5, verbose = 1)\n",
        "model.fit(X_train_cnn, y_train, batch_size = 32, epochs= 10, verbose = 1)"
      ],
      "metadata": {
        "colab": {
          "base_uri": "https://localhost:8080/"
        },
        "id": "A9A5HkKJt94R",
        "outputId": "e5446b5b-b37e-49eb-b68e-66a1bd3daaa5"
      },
      "execution_count": null,
      "outputs": [
        {
          "output_type": "stream",
          "name": "stdout",
          "text": [
            "Epoch 1/10\n",
            "2520/2520 [==============================] - 292s 113ms/step - loss: 0.6047 - accuracy: 0.7047\n",
            "Epoch 2/10\n",
            "2520/2520 [==============================] - 287s 114ms/step - loss: 0.6053 - accuracy: 0.7023\n",
            "Epoch 3/10\n",
            "2520/2520 [==============================] - 287s 114ms/step - loss: 0.6036 - accuracy: 0.7002\n",
            "Epoch 4/10\n",
            "2520/2520 [==============================] - 287s 114ms/step - loss: 0.6006 - accuracy: 0.7053\n",
            "Epoch 5/10\n",
            "2520/2520 [==============================] - 286s 113ms/step - loss: 0.5958 - accuracy: 0.7066\n",
            "Epoch 6/10\n",
            "2520/2520 [==============================] - 285s 113ms/step - loss: 0.5925 - accuracy: 0.7047\n",
            "Epoch 7/10\n",
            "2520/2520 [==============================] - 286s 113ms/step - loss: 0.5861 - accuracy: 0.7090\n",
            "Epoch 8/10\n",
            "2520/2520 [==============================] - 284s 113ms/step - loss: 0.5756 - accuracy: 0.7124\n",
            "Epoch 9/10\n",
            "2520/2520 [==============================] - 284s 113ms/step - loss: 0.5731 - accuracy: 0.7083\n",
            "Epoch 10/10\n",
            "2520/2520 [==============================] - 284s 113ms/step - loss: 0.5861 - accuracy: 0.7105\n"
          ]
        },
        {
          "output_type": "execute_result",
          "data": {
            "text/plain": [
              "<keras.callbacks.History at 0x7f3856199e50>"
            ]
          },
          "metadata": {},
          "execution_count": 38
        }
      ]
    },
    {
      "cell_type": "code",
      "source": [
        "y_train_preds_lstm = model.predict(X_train_cnn,verbose = 1)\n",
        "y_valid_preds_lstm = model.predict(X_valid_cnn,verbose = 1)\n"
      ],
      "metadata": {
        "colab": {
          "base_uri": "https://localhost:8080/"
        },
        "id": "hb0EY0vkuB2j",
        "outputId": "26cede45-b57b-426b-f030-cf557fecd5d9"
      },
      "execution_count": null,
      "outputs": [
        {
          "output_type": "stream",
          "name": "stdout",
          "text": [
            "2520/2520 [==============================] - 122s 48ms/step\n",
            "891/891 [==============================] - 45s 50ms/step\n"
          ]
        }
      ]
    },
    {
      "cell_type": "code",
      "source": [
        "print('Train');\n",
        "print_report(y_train, y_train_preds_lstm, thresh)\n",
        "print('Valid');\n",
        "print_report(y_valid, y_valid_preds_lstm, thresh);\n"
      ],
      "metadata": {
        "colab": {
          "base_uri": "https://localhost:8080/"
        },
        "id": "uH1qFLhuuIwL",
        "outputId": "c7f9a30a-81ee-4263-acf0-2b2ddbaa7646"
      },
      "execution_count": null,
      "outputs": [
        {
          "output_type": "stream",
          "name": "stdout",
          "text": [
            "Train\n",
            "AUC:0.615\n",
            "accuracy:0.571\n",
            "recall:0.679\n",
            "precision:0.379\n",
            "specificity:0.525\n",
            "prevalence:0.299\n",
            " \n",
            "Valid\n",
            "AUC:0.504\n",
            "accuracy:0.458\n",
            "recall:0.803\n",
            "precision:0.379\n",
            "specificity:0.266\n",
            "prevalence:0.358\n",
            " \n"
          ]
        }
      ]
    },
    {
      "cell_type": "markdown",
      "source": [
        "CNN-LSTM\n"
      ],
      "metadata": {
        "id": "YpFKd9SL2uzk"
      }
    },
    {
      "cell_type": "code",
      "source": [
        "import tensorflow as tf\n",
        "model = Sequential()\n",
        "model.add(Conv1D(filters = 128, kernel_size = 5, activation = 'relu', input_shape = (2160,1)))\n",
        "model.add(MaxPooling1D(pool_size=2))\n",
        "\n",
        "\n",
        "model.add(TimeDistributed(Flatten()))\n",
        "#model.add(Bidirectional(LSTM(64, stateful=True,return_sequences=True)))\n",
        "\n",
        "model.add(Dropout(rate = 0.25))\n",
        "#model.add(LSTM(units=32, return_sequences=True, dropout=0.25))\n",
        "#model.add(Bidirectional(LSTM(units=32, return_sequences=True, dropout=0.25)))\n",
        "#model.add(Dropout(rate = 0.25))\n",
        "model.add(Dense(1, activation = 'sigmoid'))\n",
        "\n",
        "\n",
        "\n",
        "# compile the model - use categorical crossentropy, and the adam optimizer\n",
        "\n"
      ],
      "metadata": {
        "id": "w5wFbCB22swU"
      },
      "execution_count": null,
      "outputs": []
    },
    {
      "cell_type": "code",
      "source": [
        "\n",
        "model.add(Bidirectional(LSTM(32, input_shape=(X_train_cnn.shape[1], X_train_cnn.shape[2]))))\n",
        "model.add(Dropout(rate = 0.25))\n",
        "model.add(Dense(1, activation = 'sigmoid'))\n",
        "model.compile(\n",
        "                loss = 'binary_crossentropy',\n",
        "                optimizer = 'adam',\n",
        "                metrics = ['accuracy'])"
      ],
      "metadata": {
        "id": "I42_im05OAC7"
      },
      "execution_count": null,
      "outputs": []
    },
    {
      "cell_type": "code",
      "source": [
        "#model.fit(X_train_cnn[], y_train, epochs= 2)\n",
        "model.fit(X_train_cnn, y_train, batch_size=32,epochs= 50,verbose=1)"
      ],
      "metadata": {
        "colab": {
          "base_uri": "https://localhost:8080/"
        },
        "id": "tpMhlcLv3uK0",
        "outputId": "2382ef86-bf7b-485c-a1fd-8c5439efa706"
      },
      "execution_count": null,
      "outputs": [
        {
          "output_type": "stream",
          "name": "stdout",
          "text": [
            "Epoch 1/50\n",
            "2520/2520 [==============================] - 172s 64ms/step - loss: 0.5966 - accuracy: 0.7073\n",
            "Epoch 2/50\n",
            "2520/2520 [==============================] - 160s 63ms/step - loss: 0.5921 - accuracy: 0.7139\n",
            "Epoch 3/50\n",
            "2520/2520 [==============================] - 161s 64ms/step - loss: 0.5842 - accuracy: 0.7217\n",
            "Epoch 4/50\n",
            "2520/2520 [==============================] - 162s 64ms/step - loss: 0.6039 - accuracy: 0.7077\n",
            "Epoch 5/50\n",
            "2520/2520 [==============================] - 162s 64ms/step - loss: 0.6138 - accuracy: 0.7009\n",
            "Epoch 6/50\n",
            "2520/2520 [==============================] - 162s 64ms/step - loss: 0.6103 - accuracy: 0.7009\n",
            "Epoch 7/50\n",
            "2520/2520 [==============================] - 160s 64ms/step - loss: 0.5948 - accuracy: 0.7051\n",
            "Epoch 8/50\n",
            "2520/2520 [==============================] - 161s 64ms/step - loss: 0.5999 - accuracy: 0.7032\n",
            "Epoch 9/50\n",
            "2520/2520 [==============================] - 162s 64ms/step - loss: 0.5980 - accuracy: 0.7007\n",
            "Epoch 10/50\n",
            "2520/2520 [==============================] - 160s 64ms/step - loss: 0.5911 - accuracy: 0.7015\n",
            "Epoch 11/50\n",
            "2520/2520 [==============================] - 160s 64ms/step - loss: 0.5994 - accuracy: 0.7006\n",
            "Epoch 12/50\n",
            "2520/2520 [==============================] - 160s 63ms/step - loss: 0.5943 - accuracy: 0.7002\n",
            "Epoch 13/50\n",
            "2520/2520 [==============================] - 161s 64ms/step - loss: 0.5859 - accuracy: 0.7000\n",
            "Epoch 14/50\n",
            "2520/2520 [==============================] - 160s 63ms/step - loss: 0.6016 - accuracy: 0.7009\n",
            "Epoch 15/50\n",
            "2520/2520 [==============================] - 161s 64ms/step - loss: 0.5931 - accuracy: 0.7013\n",
            "Epoch 16/50\n",
            "2520/2520 [==============================] - 161s 64ms/step - loss: 0.5964 - accuracy: 0.7013\n",
            "Epoch 17/50\n",
            "2520/2520 [==============================] - 160s 63ms/step - loss: 0.5948 - accuracy: 0.7117\n",
            "Epoch 18/50\n",
            "2520/2520 [==============================] - 160s 64ms/step - loss: 0.5930 - accuracy: 0.7052\n",
            "Epoch 19/50\n",
            "2520/2520 [==============================] - 159s 63ms/step - loss: 0.5912 - accuracy: 0.7054\n",
            "Epoch 20/50\n",
            "2520/2520 [==============================] - 159s 63ms/step - loss: 0.5832 - accuracy: 0.7074\n",
            "Epoch 21/50\n",
            "2520/2520 [==============================] - 158s 63ms/step - loss: 0.5774 - accuracy: 0.7077\n",
            "Epoch 22/50\n",
            "2520/2520 [==============================] - 161s 64ms/step - loss: 0.5673 - accuracy: 0.7213\n",
            "Epoch 23/50\n",
            "2520/2520 [==============================] - 162s 64ms/step - loss: 0.5640 - accuracy: 0.7330\n",
            "Epoch 24/50\n",
            "2520/2520 [==============================] - 162s 64ms/step - loss: 0.5762 - accuracy: 0.7218\n",
            "Epoch 25/50\n",
            "2520/2520 [==============================] - 162s 64ms/step - loss: 0.5486 - accuracy: 0.7197\n",
            "Epoch 26/50\n",
            "2520/2520 [==============================] - 163s 65ms/step - loss: 0.5696 - accuracy: 0.7181\n",
            "Epoch 27/50\n",
            "2520/2520 [==============================] - 163s 65ms/step - loss: 0.5422 - accuracy: 0.7270\n",
            "Epoch 28/50\n",
            "2520/2520 [==============================] - 162s 64ms/step - loss: 0.5269 - accuracy: 0.7426\n",
            "Epoch 29/50\n",
            "2520/2520 [==============================] - 161s 64ms/step - loss: 0.5886 - accuracy: 0.7154\n",
            "Epoch 30/50\n",
            "2520/2520 [==============================] - 163s 65ms/step - loss: 0.5828 - accuracy: 0.7142\n",
            "Epoch 31/50\n",
            "2520/2520 [==============================] - 161s 64ms/step - loss: 0.5973 - accuracy: 0.7094\n",
            "Epoch 32/50\n",
            "2520/2520 [==============================] - 162s 64ms/step - loss: 0.5956 - accuracy: 0.7102\n",
            "Epoch 33/50\n",
            "2520/2520 [==============================] - 163s 65ms/step - loss: 0.5987 - accuracy: 0.7089\n",
            "Epoch 34/50\n",
            "2520/2520 [==============================] - 161s 64ms/step - loss: 0.5918 - accuracy: 0.7077\n",
            "Epoch 35/50\n",
            "2520/2520 [==============================] - 163s 65ms/step - loss: 0.5655 - accuracy: 0.7133\n",
            "Epoch 36/50\n",
            "2520/2520 [==============================] - 162s 64ms/step - loss: 0.5560 - accuracy: 0.7149\n",
            "Epoch 37/50\n",
            "2520/2520 [==============================] - 164s 65ms/step - loss: 0.5534 - accuracy: 0.7179\n",
            "Epoch 38/50\n",
            "2520/2520 [==============================] - 168s 67ms/step - loss: 0.5640 - accuracy: 0.7077\n",
            "Epoch 39/50\n",
            "2520/2520 [==============================] - 168s 67ms/step - loss: 0.5602 - accuracy: 0.7137\n",
            "Epoch 40/50\n",
            "2520/2520 [==============================] - 169s 67ms/step - loss: 0.5665 - accuracy: 0.7076\n",
            "Epoch 41/50\n",
            "2520/2520 [==============================] - 169s 67ms/step - loss: 0.5757 - accuracy: 0.7019\n",
            "Epoch 42/50\n",
            "2520/2520 [==============================] - 168s 67ms/step - loss: 0.5892 - accuracy: 0.7053\n",
            "Epoch 43/50\n",
            "2520/2520 [==============================] - 169s 67ms/step - loss: 0.5780 - accuracy: 0.7122\n",
            "Epoch 44/50\n",
            "2520/2520 [==============================] - 169s 67ms/step - loss: 0.5779 - accuracy: 0.7103\n",
            "Epoch 45/50\n",
            "2520/2520 [==============================] - 167s 66ms/step - loss: 0.5393 - accuracy: 0.7327\n",
            "Epoch 46/50\n",
            "2520/2520 [==============================] - 168s 67ms/step - loss: 0.5271 - accuracy: 0.7561\n",
            "Epoch 47/50\n",
            "2520/2520 [==============================] - 169s 67ms/step - loss: 0.5365 - accuracy: 0.7486\n",
            "Epoch 48/50\n",
            "2520/2520 [==============================] - 168s 67ms/step - loss: 0.5443 - accuracy: 0.7274\n",
            "Epoch 49/50\n",
            "2520/2520 [==============================] - 169s 67ms/step - loss: 0.5196 - accuracy: 0.7562\n",
            "Epoch 50/50\n",
            "2520/2520 [==============================] - 169s 67ms/step - loss: 0.4365 - accuracy: 0.8195\n"
          ]
        },
        {
          "output_type": "execute_result",
          "data": {
            "text/plain": [
              "<keras.callbacks.History at 0x7f38b041b640>"
            ]
          },
          "metadata": {},
          "execution_count": 34
        }
      ]
    },
    {
      "cell_type": "code",
      "source": [
        "model.summary()"
      ],
      "metadata": {
        "colab": {
          "base_uri": "https://localhost:8080/"
        },
        "id": "FZT3JueFUQeZ",
        "outputId": "bae78a62-b9ed-4de9-a7b7-e33af838b451"
      },
      "execution_count": null,
      "outputs": [
        {
          "output_type": "stream",
          "name": "stdout",
          "text": [
            "Model: \"sequential\"\n",
            "_________________________________________________________________\n",
            " Layer (type)                Output Shape              Param #   \n",
            "=================================================================\n",
            " conv1d (Conv1D)             (None, 2156, 128)         768       \n",
            "                                                                 \n",
            " max_pooling1d (MaxPooling1D  (None, 1078, 128)        0         \n",
            " )                                                               \n",
            "                                                                 \n",
            " time_distributed (TimeDistr  (None, 1078, 128)        0         \n",
            " ibuted)                                                         \n",
            "                                                                 \n",
            " dropout (Dropout)           (None, 1078, 128)         0         \n",
            "                                                                 \n",
            " dense (Dense)               (None, 1078, 1)           129       \n",
            "                                                                 \n",
            " bidirectional (Bidirectiona  (None, 64)               8704      \n",
            " l)                                                              \n",
            "                                                                 \n",
            " dropout_1 (Dropout)         (None, 64)                0         \n",
            "                                                                 \n",
            " dense_1 (Dense)             (None, 1)                 65        \n",
            "                                                                 \n",
            "=================================================================\n",
            "Total params: 9,666\n",
            "Trainable params: 9,666\n",
            "Non-trainable params: 0\n",
            "_________________________________________________________________\n"
          ]
        }
      ]
    },
    {
      "cell_type": "code",
      "source": [
        "#y_train_preds_lstm = model.predict(X_train_cnn[:10000],verbose = 1)\n",
        "#y_valid_preds_lstm = model.predict(X_valid_cnn,verbose = 1)\n",
        "y_train_preds_cnn_lstm = model.predict(X_train_cnn,verbose=1)\n",
        "y_valid_preds_cnn_lstm = model.predict(X_valid_cnn,verbose=1)\n"
      ],
      "metadata": {
        "id": "c_ftAQPL3vFS",
        "colab": {
          "base_uri": "https://localhost:8080/"
        },
        "outputId": "32ccab15-065d-455b-a897-23a376e1c135"
      },
      "execution_count": null,
      "outputs": [
        {
          "output_type": "stream",
          "name": "stdout",
          "text": [
            "2520/2520 [==============================] - 90s 35ms/step\n",
            "891/891 [==============================] - 31s 35ms/step\n"
          ]
        }
      ]
    },
    {
      "cell_type": "code",
      "source": [
        "#y_valid_preds_lstm=y_valid_preds_lstm.reshape(-1)\n",
        "\n",
        "#y_train_preds_cnn_lstm=y_train_preds_cnn_lstm.reshape(86901892,1)\n",
        "y_train_preds_cnn_lstm.shape"
      ],
      "metadata": {
        "id": "JDVeuTpVYKII"
      },
      "execution_count": null,
      "outputs": []
    },
    {
      "cell_type": "code",
      "source": [
        "#y_train_preds_lstm=y_train_preds_lstm.reshape(-1)\n",
        "#y_valid_preds_lstm.shape\n",
        "y_valid_preds_cnn_lstm.shape\n",
        "#=y_valid_preds_cnn_lstm.reshape(30706830,1)"
      ],
      "metadata": {
        "id": "g1KPRNfBbobY"
      },
      "execution_count": null,
      "outputs": []
    },
    {
      "cell_type": "code",
      "source": [
        "print('Train');\n",
        "print_report(y_train, y_train_preds_cnn_lstm, thresh)\n",
        "print('Valid');\n",
        "print_report(y_valid, y_valid_preds_cnn_lstm, thresh);"
      ],
      "metadata": {
        "colab": {
          "base_uri": "https://localhost:8080/"
        },
        "id": "46mD1T-z338g",
        "outputId": "e7d15baf-73ed-4974-db43-72c1d6bfc37e"
      },
      "execution_count": null,
      "outputs": [
        {
          "output_type": "stream",
          "name": "stdout",
          "text": [
            "Train\n",
            "AUC:0.868\n",
            "accuracy:0.834\n",
            "recall:0.651\n",
            "precision:0.758\n",
            "specificity:0.911\n",
            "prevalence:0.299\n",
            " \n",
            "Valid\n",
            "AUC:0.459\n",
            "accuracy:0.501\n",
            "recall:0.214\n",
            "precision:0.260\n",
            "specificity:0.661\n",
            "prevalence:0.358\n",
            " \n"
          ]
        }
      ]
    },
    {
      "cell_type": "code",
      "source": [
        "from sklearn.metrics import roc_curve, roc_auc_score\n",
        "\n",
        "\n",
        "fpr_valid_cnn, tpr_valid_cnn, t_valid_cnn = roc_curve(y_valid, y_valid_preds_cnn)\n",
        "auc_valid_cnn = roc_auc_score(y_valid, y_valid_preds_cnn)\n",
        "\n",
        "#fpr_valid_dense, tpr_valid_dense, t_valid_dense = roc_curve(y_valid, y_valid_preds_dense)\n",
        "#auc_valid_dense = roc_auc_score(y_valid, y_valid_preds_dense)\n",
        "\n",
        "#fpr_valid_lstm, tpr_valid_lstm, t_valid_lstm = roc_curve(y_valid, y_valid_preds_lstm)\n",
        "#auc_valid_lstm = roc_auc_score(y_valid, y_valid_preds_lstm)\n",
        "\n",
        "#fpr_valid_cnn_lstm, tpr_valid_cnn_lstm, t_valid_cnn_lstm = roc_curve(y_valid, y_valid_preds_cnn_lstm)\n",
        "#auc_valid_cnn_lstm = roc_auc_score(y_valid, y_valid_preds_cnn_lstm)\n",
        "\n",
        "\n",
        "plt.plot(fpr_valid_cnn, tpr_valid_cnn, 'g-', label = 'CNN AUC:%.3f'%auc_valid_cnn)\n",
        "#plt.plot(fpr_valid_dense, tpr_valid_dense, 'r-', label = 'Dense AUC:%.3f'%auc_valid_dense)\n",
        "#plt.plot(fpr_valid_lstm, tpr_valid_lstm, 'b-', label = 'LSTM AUC:%.3f'%auc_valid_lstm)\n",
        "#plt.plot(fpr_valid_cnn_lstm, tpr_valid_cnn_lstm, 'h-', label = 'CNN-LSTM AUC:%.3f'%auc_valid_cnn_lstm)\n",
        "\n",
        "plt.plot([0,1],[0,1], 'k--')\n",
        "plt.xlabel('FPR')\n",
        "plt.ylabel('TPR')\n",
        "plt.legend(bbox_to_anchor = (1.04,1), loc = 'upper left')\n",
        "plt.title('Validation Set')\n",
        "plt.show()"
      ],
      "metadata": {
        "colab": {
          "base_uri": "https://localhost:8080/",
          "height": 295
        },
        "id": "5xYafixHuMfO",
        "outputId": "89d21a4e-4169-4b7b-81bd-30baf0a2b9f7"
      },
      "execution_count": null,
      "outputs": [
        {
          "output_type": "display_data",
          "data": {
            "text/plain": [
              "<Figure size 432x288 with 1 Axes>"
            ],
            "image/png": "[encoded data removed]"
          },
          "metadata": {
            "needs_background": "light"
          }
        }
      ]
    }
  ]
}